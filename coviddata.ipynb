{
 "cells": [
  {
   "cell_type": "code",
   "execution_count": null,
   "metadata": {
    "vscode": {
     "languageId": "shellscript"
    }
   },
   "outputs": [],
   "source": [
    "pip install -r ./requirements.txt"
   ]
  },
  {
   "cell_type": "markdown",
   "metadata": {},
   "source": [
    "# Import Required Libraries\n",
    "Import the necessary libraries, including pandas, matplotlib, and seaborn."
   ]
  },
  {
   "cell_type": "code",
   "execution_count": null,
   "metadata": {},
   "outputs": [],
   "source": [
    "# Importing the necessary libraries\n",
    "import pandas as pd\n",
    "import matplotlib.pyplot as plt\n",
    "import seaborn as sns"
   ]
  },
  {
   "cell_type": "markdown",
   "metadata": {},
   "source": [
    "# Load and Read COVID Data\n",
    "Load the COVID data from a reliable source and read it into a pandas DataFrame."
   ]
  },
  {
   "cell_type": "code",
   "execution_count": null,
   "metadata": {},
   "outputs": [],
   "source": [
    "import pandas as pd\n",
    "\n",
    "def load_data_from_url(url):\n",
    "    \"\"\"\n",
    "    Load data from a given URL using pandas.\n",
    "\n",
    "    Parameters:\n",
    "    url (str): The URL where the data is located.\n",
    "\n",
    "    Returns:\n",
    "    pandas.DataFrame: The loaded data as a DataFrame.\n",
    "    \"\"\"\n",
    "    df = pd.read_csv(url)\n",
    "    return df\n",
    "\n",
    "# Define the URL where the data is located\n",
    "url = \"https://raw.githubusercontent.com/nytimes/covid-19-data/master/us-states.csv\"\n",
    "\n",
    "# Use the function to load the data from the URL\n",
    "df = load_data_from_url(url)\n",
    "\n",
    "# Show the first few rows\n",
    "df.head()\n"
   ]
  },
  {
   "cell_type": "markdown",
   "metadata": {},
   "source": [
    "# Data Cleaning\n",
    "Clean the data by handling missing values, removing duplicates, and converting data types if necessary."
   ]
  },
  {
   "cell_type": "code",
   "execution_count": null,
   "metadata": {},
   "outputs": [],
   "source": [
    "# Check for missing values in the DataFrame\n",
    "missing_values = df.isnull().sum()\n",
    "print(f\"Missing values in each column:\\n{missing_values}\\n\")\n",
    "\n",
    "# If there are missing values, fill them with appropriate values\n",
    "# For example, if 'cases' column has missing values, we might want to fill them with 0\n",
    "# df['cases'].fillna(0, inplace=True)\n",
    "\n",
    "# Check for duplicate rows\n",
    "duplicates = df.duplicated()\n",
    "print(f\"Number of duplicate rows = {duplicates.sum()}\\n\")\n",
    "\n",
    "# If there are duplicates, we need to remove them\n",
    "# df.drop_duplicates(inplace=True)\n",
    "\n",
    "# Convert data types if necessary\n",
    "# For example, if 'date' column is not of datetime type, convert it\n",
    "df['date'] = pd.to_datetime(df['date'])\n",
    "\n",
    "# Filter the data for the state of Washington\n",
    "df_washington = df[df['state'] == 'Washington']\n",
    "\n",
    "# Display the first few rows of the cleaned DataFrame\n",
    "df_washington.head()"
   ]
  },
  {
   "cell_type": "markdown",
   "metadata": {},
   "source": [
    "# Filter Data for Washington State\n",
    "Filter the data to include only the records for the state of Washington."
   ]
  },
  {
   "cell_type": "code",
   "execution_count": null,
   "metadata": {},
   "outputs": [],
   "source": [
    "# Filter the data for the state of Washington\n",
    "df_washington = df[df['state'] == 'Washington']\n",
    "\n",
    "# Display the first few rows of the cleaned DataFrame\n",
    "df_washington.head()"
   ]
  },
  {
   "cell_type": "markdown",
   "metadata": {},
   "source": [
    "# Analyze and Visualize Trends\n",
    "Analyze the data to identify trends and visualize these trends using matplotlib and seaborn."
   ]
  },
  {
   "cell_type": "code",
   "execution_count": null,
   "metadata": {},
   "outputs": [],
   "source": [
    "# Analyze the data to identify trends\n",
    "# Calculate the daily new cases and new deaths\n",
    "df_washington['new_cases'] = df_washington['cases'].diff()\n",
    "df_washington['new_deaths'] = df_washington['deaths'].diff()\n",
    "\n",
    "# Calculate the 7-day moving average of new cases and new deaths\n",
    "df_washington['new_cases_ma7'] = df_washington['new_cases'].rolling(window=7).mean()\n",
    "df_washington['new_deaths_ma7'] = df_washington['new_deaths'].rolling(window=7).mean()\n",
    "\n",
    "# Visualize the trends\n",
    "plt.figure(figsize=(14, 8))\n",
    "\n",
    "# Plot new cases\n",
    "plt.subplot(2, 1, 1)\n",
    "sns.lineplot(x='date', y='new_cases_ma7', data=df_washington)\n",
    "plt.title('7-day Moving Average of New Cases in Washington')\n",
    "plt.xlabel('Date')\n",
    "plt.ylabel('New Cases')\n",
    "\n",
    "# Plot new deaths\n",
    "plt.subplot(2, 1, 2)\n",
    "sns.lineplot(x='date', y='new_deaths_ma7', data=df_washington)\n",
    "plt.title('7-day Moving Average of New Deaths in Washington')\n",
    "plt.xlabel('Date')\n",
    "plt.ylabel('New Deaths')\n",
    "\n",
    "plt.tight_layout()\n",
    "plt.show()"
   ]
  }
 ],
 "metadata": {
  "kernelspec": {
   "display_name": "Python 3",
   "language": "python",
   "name": "python3"
  },
  "language_info": {
   "codemirror_mode": {
    "name": "ipython",
    "version": 3
   },
   "file_extension": ".py",
   "mimetype": "text/x-python",
   "name": "python",
   "nbconvert_exporter": "python",
   "pygments_lexer": "ipython3",
   "version": "3.12.2"
  },
  "orig_nbformat": 4
 },
 "nbformat": 4,
 "nbformat_minor": 2
}
